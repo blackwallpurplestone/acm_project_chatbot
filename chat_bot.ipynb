{
 "cells": [
  {
   "cell_type": "code",
   "execution_count": 180,
   "metadata": {},
   "outputs": [],
   "source": [
    "import nltk\n",
    "from nltk.stem import WordNetLemmatizer\n",
    "from tensorflow.keras.models import load_model\n",
    "import random\n",
    "import json\n",
    "import pickle\n",
    "import numpy as np"
   ]
  },
  {
   "cell_type": "code",
   "execution_count": 151,
   "metadata": {},
   "outputs": [],
   "source": [
    "lemmatizer = WordNetLemmatizer()\n",
    "intents = json.loads(open('intents.json').read())"
   ]
  },
  {
   "cell_type": "code",
   "execution_count": 152,
   "metadata": {},
   "outputs": [],
   "source": [
    "words = pickle.load(open('words.pkl','rb'))\n",
    "classes = pickle.load(open('classes.pkl','rb'))\n",
    "context = pickle.load(open('context.pkl','rb'))\n",
    "model = load_model('chat_bot.keras')"
   ]
  },
  {
   "cell_type": "code",
   "execution_count": 153,
   "metadata": {},
   "outputs": [],
   "source": [
    "def clean_sentences(sentences):\n",
    "    sentences_words = nltk.word_tokenize(sentences)\n",
    "    sentences_words = [lemmatizer.lemmatize(word.lower()) for word in sentences_words]\n",
    "    return sentences_words"
   ]
  },
  {
   "cell_type": "code",
   "execution_count": 154,
   "metadata": {},
   "outputs": [],
   "source": [
    "def bag_of_words(sentences,words,show_details=True):\n",
    "    # call clean_sentences to toennize the sentences\n",
    "    sentence_words = clean_sentences(sentences)\n",
    "    #bag of words from the sentences\n",
    "    bag = [0]*len(words)\n",
    "    for sent in sentence_words:\n",
    "        for index , word in enumerate(words):\n",
    "            if word == sent:\n",
    "                bag[index] = 1\n",
    "                if show_details:\n",
    "                    print(\"Found in Bag of Words : %s\"% word)\n",
    "\n",
    "    return(np.array(bag))"
   ]
  },
  {
   "cell_type": "markdown",
   "metadata": {},
   "source": []
  },
  {
   "cell_type": "code",
   "execution_count": 155,
   "metadata": {},
   "outputs": [],
   "source": [
    "def predict(sentences,model):\n",
    "    # Creazte a threshhold filter \n",
    "    p = bag_of_words(sentences,words,show_details=False)\n",
    "    res = model.predict(np.array([p]))[0]\n",
    "    threshold = 0.25\n",
    "\n",
    "    results = [[index, result] for index, result in enumerate(res) if result > threshold]\n",
    "\n",
    "\n",
    "    # softmax gies probability scores well sort by that\n",
    "    results.sort(key = lambda x : x[1], reverse=True)\n",
    "\n",
    "    return_list =  []\n",
    "    for r in results:\n",
    "        return_list.append({\"intent\" : classes[r[0]], \"probability\":str(r[1])})\n",
    "    return return_list"
   ]
  },
  {
   "cell_type": "code",
   "execution_count": null,
   "metadata": {},
   "outputs": [],
   "source": []
  },
  {
   "cell_type": "code",
   "execution_count": null,
   "metadata": {},
   "outputs": [],
   "source": []
  },
  {
   "cell_type": "code",
   "execution_count": 159,
   "metadata": {},
   "outputs": [],
   "source": [
    "def getResponse(ints,intents_json):\n",
    "    tag = ints[0]['intent']\n",
    "    list_of_intents = intents_json['intents']\n",
    "    for i in list_of_intents:\n",
    "        if(i['tag']== tag):\n",
    "            result = random.choice(i['responses'])\n",
    "            break\n",
    "\n",
    "    return result"
   ]
  },
  {
   "cell_type": "code",
   "execution_count": 160,
   "metadata": {},
   "outputs": [],
   "source": [
    "def chatbot_response(message):\n",
    "    ints = predict(message,model)\n",
    "    res = getResponse(ints,intents)\n",
    "    \n",
    "    return res\n",
    "\n"
   ]
  },
  {
   "cell_type": "code",
   "execution_count": null,
   "metadata": {},
   "outputs": [],
   "source": [
    "\n"
   ]
  },
  {
   "cell_type": "code",
   "execution_count": 179,
   "metadata": {},
   "outputs": [
    {
     "name": "stdout",
     "output_type": "stream",
     "text": [
      "\u001b[1m1/1\u001b[0m \u001b[32m━━━━━━━━━━━━━━━━━━━━\u001b[0m\u001b[37m\u001b[0m \u001b[1m0s\u001b[0m 16ms/step\n"
     ]
    }
   ],
   "source": [
    "\n",
    "#Creating GUI with tkinter\n",
    "import tkinter\n",
    "from tkinter import *\n",
    "from PIL import ImageTk,Image\n",
    "\n",
    "def send(event=None):\n",
    "    msg = EntryBox.get(\"1.0\",'end-1c').strip()\n",
    "    EntryBox.delete(\"0.0\",END)\n",
    "\n",
    "    if msg != '':\n",
    "        ChatLog.config(state=NORMAL)\n",
    "        ChatLog.insert(END, \"You: \" + msg + '\\n\\n','right_align')\n",
    "        ChatLog.tag_configure('right_align', justify='right')\n",
    "        ChatLog.config(foreground=\"#442265\", font=(\"Times New Roman\", 12 ))\n",
    "    \n",
    "        res = chatbot_response(msg)\n",
    "        ChatLog.insert(END, \"Sahayak: \" + res + '\\n\\n', 'left_align')\n",
    "        ChatLog.tag_configure('left_align', justify='left')            \n",
    "        ChatLog.config(state=DISABLED)\n",
    "        ChatLog.yview(END)\n",
    "\n",
    "\n",
    "\n",
    "def on_entry_click(event):\n",
    "    if EntryBox.get(\"1.0\", \"end-1c\") == \"Type here\":\n",
    "        EntryBox.delete(\"1.0\", \"end\")\n",
    "        EntryBox.insert(\"1.0\", \"\")\n",
    "        EntryBox.config(fg='black')\n",
    "\n",
    "def on_focusout(event):\n",
    "    if not EntryBox.get(\"1.0\", \"end-1c\"):\n",
    "        EntryBox.insert(\"1.0\", \"Type here\")\n",
    "        EntryBox.config(fg='grey')\n",
    "def on_key_press(event):\n",
    "    if EntryBox.get(\"1.0\", \"end-1c\") == \"Type here\":\n",
    "        EntryBox.delete(\"1.0\", \"end\")\n",
    "        EntryBox.config(fg='black')\n",
    "\n",
    "\n",
    "def clear_conversations():\n",
    "    ChatLog.config(state=NORMAL)\n",
    "    ChatLog.delete(\"1.0\", END)\n",
    "    ChatLog.config(state=DISABLED)\n",
    " \n",
    "\n",
    "\n",
    "\n",
    "base = Tk()\n",
    "base.title(\"Sahayak:     \")\n",
    "base.geometry(\"450x500\")\n",
    "#base.resizable(width=650, height=420)\n",
    "base.minsize(430,300) \n",
    "base.maxsize(400,500) \n",
    "\n",
    "base.iconbitmap(\"favicon_test.ico\")\n",
    "\n",
    "base.configure(background='#B09FCA')\n",
    "\n",
    "\n",
    "\n",
    "img_new = Image.open('sahayak2.png')  \n",
    "resized_img_new = img_new.resize((400, 80))\n",
    "img_new = ImageTk.PhotoImage(resized_img_new)\n",
    "img_label_new = Label(base, image=img_new)\n",
    "img_label_new.pack( padx=(5,5),pady=(5,5),anchor='nw',side='top')\n",
    "\n",
    "\n",
    "ChatLog = Text(base, bd=3, bg=\"#E6E6FA\", height=\"4\", width=\"20\", font=\"Arial\",)\n",
    "ChatLog.config(state=DISABLED)\n",
    "\n",
    "\n",
    "#Bind scrollbar to Chat window\n",
    "scrollbar = Scrollbar(base, command=ChatLog.yview, cursor=\"arrow\",background='#E6E6FA',troughcolor='#E6E6FA')\n",
    "ChatLog['yscrollcommand'] = scrollbar.set\n",
    "\n",
    "#Create Button to send message\n",
    "SendButton = Button(base, font=(\"Verdana\",12,'bold'), text=\"Ask\", width='5', height='4',\n",
    "                    bd=3, bg=\"#967BB6\",\n",
    "                    command= send )\n",
    "\n",
    "\n",
    "# Clear Button\n",
    "ClearButton = Button(base, font=(\"Verdana\", 12, 'bold'), text=\"Clear\", width='5', height='4',\n",
    "                    bd=3, bg=\"#967BB6\",\n",
    "                    command=clear_conversations)\n",
    "\n",
    "\n",
    "#Create the box to enter message\n",
    "EntryBox = Text(base, bd=3, bg=\"#E6E6FA\",width=\"45\", height=\"5\", font=\"Helentica\",)\n",
    "EntryBox.bind(\"<FocusIn>\", on_entry_click)\n",
    "EntryBox.bind(\"<Key>\", on_key_press)\n",
    "EntryBox.bind(\"<FocusOut>\", on_focusout)\n",
    "EntryBox.insert(\"1.0\", \"\")\n",
    "EntryBox.config(fg='black')\n",
    "EntryBox.bind(\"<Return>\", send)\n",
    "\n",
    "\n",
    "\n",
    "\n",
    "#Place all components on the screen\n",
    "scrollbar.place(x=410,y=6, height=386)\n",
    "ChatLog.place(x=1,y=80, height=320, width=410)\n",
    "EntryBox.place(x=1, y=401, height=90, width=350)\n",
    "SendButton.place(x=360, y=401, height=45)\n",
    "ClearButton.place(x=360, y=450, height=45)\n",
    "\n",
    "base.mainloop()"
   ]
  },
  {
   "cell_type": "code",
   "execution_count": null,
   "metadata": {},
   "outputs": [],
   "source": []
  },
  {
   "cell_type": "code",
   "execution_count": null,
   "metadata": {},
   "outputs": [],
   "source": []
  },
  {
   "cell_type": "code",
   "execution_count": null,
   "metadata": {},
   "outputs": [],
   "source": []
  },
  {
   "cell_type": "code",
   "execution_count": null,
   "metadata": {},
   "outputs": [],
   "source": []
  },
  {
   "cell_type": "code",
   "execution_count": null,
   "metadata": {},
   "outputs": [],
   "source": []
  },
  {
   "cell_type": "code",
   "execution_count": null,
   "metadata": {},
   "outputs": [],
   "source": []
  },
  {
   "cell_type": "code",
   "execution_count": null,
   "metadata": {},
   "outputs": [],
   "source": []
  },
  {
   "cell_type": "code",
   "execution_count": null,
   "metadata": {},
   "outputs": [],
   "source": []
  },
  {
   "cell_type": "code",
   "execution_count": null,
   "metadata": {},
   "outputs": [],
   "source": []
  },
  {
   "cell_type": "code",
   "execution_count": null,
   "metadata": {},
   "outputs": [],
   "source": []
  },
  {
   "cell_type": "code",
   "execution_count": null,
   "metadata": {},
   "outputs": [],
   "source": []
  },
  {
   "cell_type": "code",
   "execution_count": null,
   "metadata": {},
   "outputs": [],
   "source": []
  },
  {
   "cell_type": "code",
   "execution_count": null,
   "metadata": {},
   "outputs": [],
   "source": []
  },
  {
   "cell_type": "code",
   "execution_count": null,
   "metadata": {},
   "outputs": [],
   "source": []
  }
 ],
 "metadata": {
  "kernelspec": {
   "display_name": "chatbot_env",
   "language": "python",
   "name": "python3"
  },
  "language_info": {
   "codemirror_mode": {
    "name": "ipython",
    "version": 3
   },
   "file_extension": ".py",
   "mimetype": "text/x-python",
   "name": "python",
   "nbconvert_exporter": "python",
   "pygments_lexer": "ipython3",
   "version": "3.12.1"
  }
 },
 "nbformat": 4,
 "nbformat_minor": 2
}
